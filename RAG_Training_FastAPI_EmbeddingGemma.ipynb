{
 "cells": [
  {
   "cell_type": "code",
   "execution_count": null,
   "id": "b0cbddef",
   "metadata": {
    "scrolled": true,
    "vscode": {
     "languageId": "plaintext"
    }
   },
   "outputs": [],
   "source": [
    "!python -m pip install --upgrade pip\n",
    "!python -m pip uninstall -y torch torchvision torchaudio\n",
    "!python -m pip install torch torchvision torchaudio --index-url https://download.pytorch.org/whl/cu124\n",
    "!pip install sentence-transformers faiss-gpu-cu12 fastapi uvicorn"
   ]
  },
  {
   "cell_type": "code",
   "execution_count": null,
   "id": "ffcbce04",
   "metadata": {
    "vscode": {
     "languageId": "plaintext"
    }
   },
   "outputs": [],
   "source": [
    "from huggingface_hub import login\n",
    "login(token=\"HF_token\")"
   ]
  },
  {
   "cell_type": "code",
   "execution_count": null,
   "id": "2e2593a0-2ffc-4ed3-96a0-84c0871c890f",
   "metadata": {},
   "outputs": [],
   "source": [
    "import threading\n",
    "import uvicorn\n",
    "import torch\n",
    "\n",
    "from transformers import AutoTokenizer, AutoModelForCausalLM\n",
    "from sentence_transformers import SentenceTransformer\n",
    "from pydantic import BaseModel\n",
    "from data import example_data\n",
    "from fastapi import FastAPI"
   ]
  },
  {
   "cell_type": "code",
   "execution_count": null,
   "id": "3a1d9eed",
   "metadata": {
    "scrolled": true,
    "vscode": {
     "languageId": "plaintext"
    }
   },
   "outputs": [],
   "source": [
    "app = FastAPI()\n",
    "\n",
    "embedding_model = SentenceTransformer(\"google/embeddinggemma-300m\")\n",
    "lm_model_id = \"google/gemma-2-2b-it\"\n",
    "tokenizer = AutoTokenizer.from_pretrained(lm_model_id)\n",
    "llm = AutoModelForCausalLM.from_pretrained(lm_model_id)\n",
    "\n",
    "device = torch.device(\"cuda\" if torch.cuda.is_available() else \"cpu\")\n",
    "llm = llm.to(device)\n",
    "llm.eval()"
   ]
  },
  {
   "cell_type": "code",
   "execution_count": null,
   "id": "80f3ef50",
   "metadata": {
    "vscode": {
     "languageId": "plaintext"
    }
   },
   "outputs": [],
   "source": [
    "class QueryRequest(BaseModel):\n",
    "    query: str\n",
    "\n",
    "def find_top_entry(query):\n",
    "    query_emb = embedding_model.encode(query, convert_to_tensor=True)\n",
    "    corpus_embs = embedding_model.encode([entry[\"text\"] for entry in example_data], convert_to_tensor=True)\n",
    "    similarities = torch.nn.functional.cosine_similarity(query_emb, corpus_embs)\n",
    "    top_idx = torch.argmax(similarities).item()\n",
    "    return example_data[top_idx]"
   ]
  },
  {
   "cell_type": "code",
   "execution_count": null,
   "id": "f080777c",
   "metadata": {
    "vscode": {
     "languageId": "plaintext"
    }
   },
   "outputs": [],
   "source": [
    "def build_prompt(context_text, question):\n",
    "    return f\"Use the following context to answer the question.\\nContext: {context_text}\\nQuestion: {question}\\nAnswer:\"\n",
    "\n",
    "def generate_answer(prompt):\n",
    "    inputs = tokenizer(prompt, return_tensors=\"pt\").to(device)\n",
    "    with torch.no_grad():\n",
    "        outputs = llm.generate(**inputs, max_new_tokens=256, temperature=0.7, top_p=0.9, do_sample=True)\n",
    "    return tokenizer.decode(outputs[0], skip_special_tokens=True).strip()"
   ]
  },
  {
   "cell_type": "code",
   "execution_count": null,
   "id": "7736fb65",
   "metadata": {
    "vscode": {
     "languageId": "plaintext"
    }
   },
   "outputs": [],
   "source": [
    "@app.post(\"/answer\")\n",
    "async def answer_query(request: QueryRequest):\n",
    "    relevant = find_top_entry(request.query)\n",
    "    prompt = build_prompt(relevant[\"text\"], request.query)\n",
    "    answer = generate_answer(prompt)\n",
    "    return {\n",
    "        \"answer\": answer\n",
    "    }"
   ]
  },
  {
   "cell_type": "code",
   "execution_count": null,
   "id": "df0c1601-72cd-4af1-b1ec-51e9be0ffc53",
   "metadata": {},
   "outputs": [],
   "source": [
    "def run_api():\n",
    "    uvicorn.run(app, host=\"0.0.0.0\", port=8000, log_level=\"info\")\n",
    "\n",
    "thread = threading.Thread(target=run_api, daemon=True)\n",
    "thread.start()"
   ]
  }
 ],
 "metadata": {
  "kernelspec": {
   "display_name": "Python 3 (ipykernel)",
   "language": "python",
   "name": "python3"
  },
  "language_info": {
   "codemirror_mode": {
    "name": "ipython",
    "version": 3
   },
   "file_extension": ".py",
   "mimetype": "text/x-python",
   "name": "python",
   "nbconvert_exporter": "python",
   "pygments_lexer": "ipython3",
   "version": "3.11.10"
  }
 },
 "nbformat": 4,
 "nbformat_minor": 5
}
